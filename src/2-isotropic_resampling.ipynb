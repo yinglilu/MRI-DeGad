{
 "cells": [
  {
   "cell_type": "code",
   "execution_count": 6,
   "metadata": {},
   "outputs": [],
   "source": [
    "from nilearn import image\n",
    "import matplotlib.pyplot as plt\n",
    "import numpy as np\n",
    "import nibabel as nib\n",
    "from glob import glob\n",
    "import pandas as pd\n",
    "import os"
   ]
  },
  {
   "cell_type": "code",
   "execution_count": 7,
   "metadata": {},
   "outputs": [],
   "source": [
    "gad_bids_path='/project/6050199/akhanf/cfmm-bids/data/Lau/degad/derivatives/fmriprep/gad'\n",
    "nongad_bids_path='/project/6050199/akhanf/cfmm-bids/data/Lau/degad/derivatives/fmriprep/nongad'\n",
    "output_dir = '/project/6050199/akhanf/cfmm-bids/data/Lau/degad/derivatives/resampled' #output directory for resampled images\n",
    "\n",
    "subject_dirs = sorted(glob(f\"{gad_bids_path}/sub-P0??\"))\n",
    "for index, dir in enumerate(subject_dirs):\n",
    "    subject = os.path.basename(dir.split(\"/\")[-1])\n",
    "    gad_img_path=f'{gad_bids_path}/{subject}/ses-pre/anat/{subject}_ses-pre_acq-gad_run-1_desc-preproc_T1w.nii.gz' ## gad bids directory of data\n",
    "    nongad_img_path=f'{nongad_bids_path}/{subject}/ses-pre/anat/{subject}_ses-pre_acq-nongad_run-1_desc-preproc_T1w.nii.gz' ## nongad bids directory of data\n",
    "    \n",
    "    gad_output_dir = f'{output_dir}/gad/{subject}'\n",
    "    nongad_output_dir = f'{output_dir}/nongad/{subject}'\n",
    "    \n",
    "    if not os.path.exists(gad_output_dir):#if path does not exist, create it\n",
    "        !mkdir -p {gad_output_dir}\n",
    "    if not os.path.exists(nongad_output_dir):#if path does not exist, create it\n",
    "        !mkdir -p {nongad_output_dir}\n",
    "\n",
    "    gad_orig_img=nib.load(gad_img_path)\n",
    "    gad_orig_resample = image.resample_img(gad_orig_img, target_affine=np.eye(3), interpolation='linear') #resampling to 1mm x 1 mm x 1 mm resolution\n",
    "    nib.save(gad_orig_resample, f'{gad_output_dir}/{subject}_acq-gad_resampled_T1w.nii.gz')\n",
    "    \n",
    "    nongad_orig_img=nib.load(nongad_img_path)\n",
    "    nongad_orig_resample = image.resample_img(nongad_orig_img, target_affine=np.eye(3), interpolation='linear')\n",
    "    nib.save(nongad_orig_resample, f'{nongad_output_dir}/{subject}_acq-nongad_resampled_T1w.nii.gz')\n",
    "    "
   ]
  },
  {
   "cell_type": "code",
   "execution_count": 8,
   "metadata": {},
   "outputs": [],
   "source": [
    "gad_bids_path='/project/6050199/akhanf/cfmm-bids/data/Lau/degad/derivatives/fmriprep/gad_55_63'\n",
    "nongad_bids_path='/project/6050199/akhanf/cfmm-bids/data/Lau/degad/derivatives/fmriprep/nongad_55_63'\n",
    "output_dir = '/project/6050199/akhanf/cfmm-bids/data/Lau/degad/derivatives/resampled' #output directory for resampled images\n",
    "\n",
    "subject_dirs = sorted(glob(f\"{gad_bids_path}/sub-P0??\"))\n",
    "for index, dir in enumerate(subject_dirs):\n",
    "    subject = os.path.basename(dir.split(\"/\")[-1])\n",
    "    gad_img_path=f'{gad_bids_path}/{subject}/ses-pre/anat/{subject}_ses-pre_acq-gad_run-1_desc-preproc_T1w.nii.gz' ## gad bids directory of data\n",
    "    nongad_img_path=f'{nongad_bids_path}/{subject}/ses-pre/anat/{subject}_ses-pre_acq-nongad_run-1_desc-preproc_T1w.nii.gz' ## nongad bids directory of data\n",
    "    \n",
    "    gad_output_dir = f'{output_dir}/gad/{subject}'\n",
    "    nongad_output_dir = f'{output_dir}/nongad/{subject}'\n",
    "    \n",
    "    if not os.path.exists(gad_output_dir):#if path does not exist, create it\n",
    "        !mkdir -p {gad_output_dir}\n",
    "    if not os.path.exists(nongad_output_dir):#if path does not exist, create it\n",
    "        !mkdir -p {nongad_output_dir}\n",
    "\n",
    "    gad_orig_img=nib.load(gad_img_path)\n",
    "    gad_orig_resample = image.resample_img(gad_orig_img, target_affine=np.eye(3), interpolation='linear') #resampling to 1mm x 1 mm x 1 mm resolution\n",
    "    nib.save(gad_orig_resample, f'{gad_output_dir}/{subject}_acq-gad_resampled_T1w.nii.gz')\n",
    "    \n",
    "    nongad_orig_img=nib.load(nongad_img_path)\n",
    "    nongad_orig_resample = image.resample_img(nongad_orig_img, target_affine=np.eye(3), interpolation='linear')\n",
    "    nib.save(nongad_orig_resample, f'{nongad_output_dir}/{subject}_acq-nongad_resampled_T1w.nii.gz')\n",
    "    "
   ]
  },
  {
   "cell_type": "code",
   "execution_count": null,
   "metadata": {},
   "outputs": [],
   "source": []
  }
 ],
 "metadata": {
  "interpreter": {
   "hash": "31f2aee4e71d21fbe5cf8b01ff0e069b9275f58929596ceb00d14d90e3e16cd6"
  },
  "kernelspec": {
   "display_name": "Python 3 (ipykernel)",
   "language": "python",
   "name": "python3"
  },
  "language_info": {
   "codemirror_mode": {
    "name": "ipython",
    "version": 3
   },
   "file_extension": ".py",
   "mimetype": "text/x-python",
   "name": "python",
   "nbconvert_exporter": "python",
   "pygments_lexer": "ipython3",
   "version": "3.8.10"
  }
 },
 "nbformat": 4,
 "nbformat_minor": 4
}
