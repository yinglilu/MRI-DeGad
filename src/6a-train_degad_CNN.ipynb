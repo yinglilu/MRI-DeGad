{
 "cells": [
  {
   "cell_type": "code",
   "execution_count": 1,
   "metadata": {},
   "outputs": [
    {
     "name": "stderr",
     "output_type": "stream",
     "text": [
      "/local/fogunsan.5668692.0/tmp/kslurm-venv-r7f6d20d/lib/python3.10/site-packages/tqdm/auto.py:21: TqdmWarning: IProgress not found. Please update jupyter and ipywidgets. See https://ipywidgets.readthedocs.io/en/stable/user_install.html\n",
      "  from .autonotebook import tqdm as notebook_tqdm\n"
     ]
    }
   ],
   "source": [
    "import monai\n",
    "from monai.transforms import (\n",
    "    Compose,\n",
    "    LoadImaged,\n",
    "    RandCropByPosNegLabeld,\n",
    "    Spacingd,\n",
    "    RandWeightedCrop,\n",
    "    RandRotate,\n",
    "    Rand3DElasticd,\n",
    "    RandRotated,\n",
    "    EnsureChannelFirstd,\n",
    "    ScaleIntensityd,\n",
    "    RandFlipd)\n",
    "import tqdm\n",
    "from torchmetrics import MeanSquaredError\n",
    "import time\n",
    "from monai.networks.nets import UNet\n",
    "from monai.inferers import sliding_window_inference\n",
    "from monai.data import CacheDataset, Dataset ,nifti_saver, PatchDataset, DataLoader\n",
    "import torch\n",
    "import matplotlib.pyplot as plt\n",
    "import tempfile\n",
    "import shutil\n",
    "import os\n",
    "from glob import glob\n",
    "from monai.networks.blocks import Convolution\n",
    "from monai.networks.nets import Discriminator, Generator\n",
    "from monai.utils import progress_bar\n",
    "import torch.nn as nn\n",
    "import torchmetrics "
   ]
  },
  {
   "cell_type": "code",
   "execution_count": 2,
   "metadata": {},
   "outputs": [
    {
     "name": "stdout",
     "output_type": "stream",
     "text": [
      "47\n"
     ]
    }
   ],
   "source": [
    "gad_t1= sorted(glob('/home/fogunsan/scratch/degad/derivatives/passing_dataset/*/*_acq-gad_resampled_T1w.nii.gz'))# gad images who's corresponding nongad images underwent a rigid transform\n",
    "nongad_t1= sorted(glob('/home/fogunsan/scratch/degad/derivatives/normalized_fcm/*/*_acq-nongad_normalized_fcm.nii.gz')) # nongad images which underwent a rigid transform and underwent fcm normalization\n",
    "image_dict = [{\"image\": gad_name, \"label\": nongad_name} for gad_name, nongad_name in zip(gad_t1,nongad_t1)] #creates list of dictionaries, with gad and nongad images labelled\n",
    "print(len(image_dict))\n",
    "train_files, validate_files, test_files = image_dict[0:33], image_dict[33:42], image_dict[42:47] #creates a list of dictionaries for each set (training, val, testing), with keys of gad and nongad in each index "
   ]
  },
  {
   "cell_type": "code",
   "execution_count": 3,
   "metadata": {},
   "outputs": [
    {
     "name": "stderr",
     "output_type": "stream",
     "text": [
      "Loading dataset: 100%|██████████| 33/33 [01:16<00:00,  2.31s/it]\n",
      "Loading dataset: 100%|██████████| 9/9 [00:27<00:00,  3.05s/it]\n"
     ]
    }
   ],
   "source": [
    "num_train_files = len(train_files)\n",
    "num_validate_files = len(validate_files)\n",
    "num_patches = 20000 #patches per image\n",
    "batch_size = 10\n",
    "training_sample_size = int(num_train_files * num_patches / batch_size)\n",
    "validate_sample_size = int(num_validate_files * num_patches / batch_size)\n",
    "load_images= Compose(\n",
    "    [\n",
    "        LoadImaged(keys=[\"image\", \"label\"]),\n",
    "        EnsureChannelFirstd(keys=[\"image\", \"label\"]),\n",
    "        ScaleIntensityd(keys = [\"image\"], minv=0.0, maxv=1.0)])# applying min max normalization only on gad images\n",
    "    \n",
    "train_imgs_cache = CacheDataset(data=train_files, transform=load_images)\n",
    "validate_imgs_cache = CacheDataset(data=validate_files, transform=load_images)\n",
    "\n",
    "patching_func= RandCropByPosNegLabeld( # gonna use this function to create patches\n",
    "            keys = [\"image\", \"label\"],\n",
    "            label_key = \"image\",\n",
    "            spatial_size=(32,32,32),\n",
    "            pos = 1,\n",
    "            neg = 0.0001, # much larger probability of sampling foreground\n",
    "            num_samples= num_patches# CHANGE BACK TO 5000\n",
    "        )\n",
    "patch_transforms = Compose([RandRotated(keys =[\"image\", \"label\"], range_x = [0.8,0.8], range_y = [0.8,0.8], range_z = [0.8,0.8], prob = 0.4), RandFlipd(keys =[\"image\", \"label\"], prob = 0.2, spatial_axis=1)])# flipping along y-axis (horizontally)\n",
    "\n",
    "train_patches_dataset = PatchDataset(data = train_imgs_cache, patch_func=patching_func, samples_per_image=num_patches, transform = patch_transforms)\n",
    "validate_patches_dataset = PatchDataset(data = validate_imgs_cache, patch_func=patching_func, samples_per_image=num_patches, transform = patch_transforms)"
   ]
  },
  {
   "cell_type": "code",
   "execution_count": 4,
   "metadata": {},
   "outputs": [],
   "source": [
    "CNN=UNet(\n",
    "            spatial_dims=3,\n",
    "            in_channels=1,\n",
    "            out_channels=1,\n",
    "            channels=(16, 32,64,128,256,512,512,512),\n",
    "            strides=(2, 2, 2, 2,1,1,1),\n",
    "            dropout= 0.2,\n",
    "        )\n",
    "\n",
    "device = torch.device(\"cuda\" if torch.cuda.is_available() else \"cpu\") # PyTorch v0.4.0\n",
    "CNN.apply(monai.networks.normal_init)\n",
    "CNN_model = CNN.to(device)\n"
   ]
  },
  {
   "cell_type": "code",
   "execution_count": 5,
   "metadata": {},
   "outputs": [
    {
     "name": "stdout",
     "output_type": "stream",
     "text": [
      "finished loading dataloader\n",
      "1/66000 epoch 1, training rmse loss: 0.0000 [                              ]\n",
      "2/66000 epoch 1, training rmse loss: 0.0000 [                              ]\n",
      "3/66000 epoch 1, training rmse loss: 0.0000 [                              ]\n",
      "4/66000 epoch 1, training rmse loss: 0.0000 [                              ]\n",
      "5/66000 epoch 1, training rmse loss: 0.0000 [                              ]\n"
     ]
    },
    {
     "ename": "KeyboardInterrupt",
     "evalue": "",
     "output_type": "error",
     "traceback": [
      "\u001b[0;31m---------------------------------------------------------------------------\u001b[0m",
      "\u001b[0;31mKeyboardInterrupt\u001b[0m                         Traceback (most recent call last)",
      "Cell \u001b[0;32mIn[5], line 17\u001b[0m\n\u001b[1;32m     15\u001b[0m CNN_model\u001b[38;5;241m.\u001b[39mtrain() \u001b[38;5;66;03m# setting model to training mode\u001b[39;00m\n\u001b[1;32m     16\u001b[0m epoch_loss \u001b[38;5;241m=\u001b[39m \u001b[38;5;241m0\u001b[39m \u001b[38;5;66;03m# total traininig loss in an epoch\u001b[39;00m\n\u001b[0;32m---> 17\u001b[0m \u001b[38;5;28;01mfor\u001b[39;00m i,train_batch \u001b[38;5;129;01min\u001b[39;00m \u001b[38;5;28menumerate\u001b[39m(train_loader): \u001b[38;5;66;03m# iterating through dataloader\u001b[39;00m\n\u001b[1;32m     19\u001b[0m     progress_bar(\n\u001b[1;32m     20\u001b[0m         index\u001b[38;5;241m=\u001b[39mi\u001b[38;5;241m+\u001b[39m\u001b[38;5;241m1\u001b[39m, \u001b[38;5;66;03m# displays what step we are of current epoch, our epoch number, training (rmse loss) \u001b[39;00m\n\u001b[1;32m     21\u001b[0m         count \u001b[38;5;241m=\u001b[39m training_sample_size, \n\u001b[1;32m     22\u001b[0m         desc\u001b[38;5;241m=\u001b[39m \u001b[38;5;124mf\u001b[39m\u001b[38;5;124m\"\u001b[39m\u001b[38;5;124mepoch \u001b[39m\u001b[38;5;132;01m{\u001b[39;00mepoch\u001b[38;5;250m \u001b[39m\u001b[38;5;241m+\u001b[39m\u001b[38;5;250m \u001b[39m\u001b[38;5;241m1\u001b[39m\u001b[38;5;132;01m}\u001b[39;00m\u001b[38;5;124m, training rmse loss: \u001b[39m\u001b[38;5;132;01m{\u001b[39;00mepoch_loss_values[\u001b[38;5;241m-\u001b[39m\u001b[38;5;241m1\u001b[39m]\u001b[38;5;132;01m:\u001b[39;00m\u001b[38;5;124m.4f\u001b[39m\u001b[38;5;132;01m}\u001b[39;00m\u001b[38;5;124m\"\u001b[39m,\n\u001b[1;32m     23\u001b[0m         newline \u001b[38;5;241m=\u001b[39m \u001b[38;5;28;01mTrue\u001b[39;00m\n\u001b[1;32m     24\u001b[0m     ) \u001b[38;5;66;03m# progress bar to display current stage in training\u001b[39;00m\n\u001b[1;32m     25\u001b[0m     cnn_opt\u001b[38;5;241m.\u001b[39mzero_grad()\n",
      "File \u001b[0;32m/local/fogunsan.5668692.0/tmp/kslurm-venv-r7f6d20d/lib/python3.10/site-packages/torch/utils/data/dataloader.py:628\u001b[0m, in \u001b[0;36m_BaseDataLoaderIter.__next__\u001b[0;34m(self)\u001b[0m\n\u001b[1;32m    625\u001b[0m \u001b[38;5;28;01mif\u001b[39;00m \u001b[38;5;28mself\u001b[39m\u001b[38;5;241m.\u001b[39m_sampler_iter \u001b[38;5;129;01mis\u001b[39;00m \u001b[38;5;28;01mNone\u001b[39;00m:\n\u001b[1;32m    626\u001b[0m     \u001b[38;5;66;03m# TODO(https://github.com/pytorch/pytorch/issues/76750)\u001b[39;00m\n\u001b[1;32m    627\u001b[0m     \u001b[38;5;28mself\u001b[39m\u001b[38;5;241m.\u001b[39m_reset()  \u001b[38;5;66;03m# type: ignore[call-arg]\u001b[39;00m\n\u001b[0;32m--> 628\u001b[0m data \u001b[38;5;241m=\u001b[39m \u001b[38;5;28;43mself\u001b[39;49m\u001b[38;5;241;43m.\u001b[39;49m\u001b[43m_next_data\u001b[49m\u001b[43m(\u001b[49m\u001b[43m)\u001b[49m\n\u001b[1;32m    629\u001b[0m \u001b[38;5;28mself\u001b[39m\u001b[38;5;241m.\u001b[39m_num_yielded \u001b[38;5;241m+\u001b[39m\u001b[38;5;241m=\u001b[39m \u001b[38;5;241m1\u001b[39m\n\u001b[1;32m    630\u001b[0m \u001b[38;5;28;01mif\u001b[39;00m \u001b[38;5;28mself\u001b[39m\u001b[38;5;241m.\u001b[39m_dataset_kind \u001b[38;5;241m==\u001b[39m _DatasetKind\u001b[38;5;241m.\u001b[39mIterable \u001b[38;5;129;01mand\u001b[39;00m \\\n\u001b[1;32m    631\u001b[0m         \u001b[38;5;28mself\u001b[39m\u001b[38;5;241m.\u001b[39m_IterableDataset_len_called \u001b[38;5;129;01mis\u001b[39;00m \u001b[38;5;129;01mnot\u001b[39;00m \u001b[38;5;28;01mNone\u001b[39;00m \u001b[38;5;129;01mand\u001b[39;00m \\\n\u001b[1;32m    632\u001b[0m         \u001b[38;5;28mself\u001b[39m\u001b[38;5;241m.\u001b[39m_num_yielded \u001b[38;5;241m>\u001b[39m \u001b[38;5;28mself\u001b[39m\u001b[38;5;241m.\u001b[39m_IterableDataset_len_called:\n",
      "File \u001b[0;32m/local/fogunsan.5668692.0/tmp/kslurm-venv-r7f6d20d/lib/python3.10/site-packages/torch/utils/data/dataloader.py:671\u001b[0m, in \u001b[0;36m_SingleProcessDataLoaderIter._next_data\u001b[0;34m(self)\u001b[0m\n\u001b[1;32m    669\u001b[0m \u001b[38;5;28;01mdef\u001b[39;00m \u001b[38;5;21m_next_data\u001b[39m(\u001b[38;5;28mself\u001b[39m):\n\u001b[1;32m    670\u001b[0m     index \u001b[38;5;241m=\u001b[39m \u001b[38;5;28mself\u001b[39m\u001b[38;5;241m.\u001b[39m_next_index()  \u001b[38;5;66;03m# may raise StopIteration\u001b[39;00m\n\u001b[0;32m--> 671\u001b[0m     data \u001b[38;5;241m=\u001b[39m \u001b[38;5;28;43mself\u001b[39;49m\u001b[38;5;241;43m.\u001b[39;49m\u001b[43m_dataset_fetcher\u001b[49m\u001b[38;5;241;43m.\u001b[39;49m\u001b[43mfetch\u001b[49m\u001b[43m(\u001b[49m\u001b[43mindex\u001b[49m\u001b[43m)\u001b[49m  \u001b[38;5;66;03m# may raise StopIteration\u001b[39;00m\n\u001b[1;32m    672\u001b[0m     \u001b[38;5;28;01mif\u001b[39;00m \u001b[38;5;28mself\u001b[39m\u001b[38;5;241m.\u001b[39m_pin_memory:\n\u001b[1;32m    673\u001b[0m         data \u001b[38;5;241m=\u001b[39m _utils\u001b[38;5;241m.\u001b[39mpin_memory\u001b[38;5;241m.\u001b[39mpin_memory(data, \u001b[38;5;28mself\u001b[39m\u001b[38;5;241m.\u001b[39m_pin_memory_device)\n",
      "File \u001b[0;32m/local/fogunsan.5668692.0/tmp/kslurm-venv-r7f6d20d/lib/python3.10/site-packages/torch/utils/data/_utils/fetch.py:58\u001b[0m, in \u001b[0;36m_MapDatasetFetcher.fetch\u001b[0;34m(self, possibly_batched_index)\u001b[0m\n\u001b[1;32m     56\u001b[0m         data \u001b[38;5;241m=\u001b[39m \u001b[38;5;28mself\u001b[39m\u001b[38;5;241m.\u001b[39mdataset\u001b[38;5;241m.\u001b[39m__getitems__(possibly_batched_index)\n\u001b[1;32m     57\u001b[0m     \u001b[38;5;28;01melse\u001b[39;00m:\n\u001b[0;32m---> 58\u001b[0m         data \u001b[38;5;241m=\u001b[39m [\u001b[38;5;28mself\u001b[39m\u001b[38;5;241m.\u001b[39mdataset[idx] \u001b[38;5;28;01mfor\u001b[39;00m idx \u001b[38;5;129;01min\u001b[39;00m possibly_batched_index]\n\u001b[1;32m     59\u001b[0m \u001b[38;5;28;01melse\u001b[39;00m:\n\u001b[1;32m     60\u001b[0m     data \u001b[38;5;241m=\u001b[39m \u001b[38;5;28mself\u001b[39m\u001b[38;5;241m.\u001b[39mdataset[possibly_batched_index]\n",
      "File \u001b[0;32m/local/fogunsan.5668692.0/tmp/kslurm-venv-r7f6d20d/lib/python3.10/site-packages/torch/utils/data/_utils/fetch.py:58\u001b[0m, in \u001b[0;36m<listcomp>\u001b[0;34m(.0)\u001b[0m\n\u001b[1;32m     56\u001b[0m         data \u001b[38;5;241m=\u001b[39m \u001b[38;5;28mself\u001b[39m\u001b[38;5;241m.\u001b[39mdataset\u001b[38;5;241m.\u001b[39m__getitems__(possibly_batched_index)\n\u001b[1;32m     57\u001b[0m     \u001b[38;5;28;01melse\u001b[39;00m:\n\u001b[0;32m---> 58\u001b[0m         data \u001b[38;5;241m=\u001b[39m [\u001b[38;5;28;43mself\u001b[39;49m\u001b[38;5;241;43m.\u001b[39;49m\u001b[43mdataset\u001b[49m\u001b[43m[\u001b[49m\u001b[43midx\u001b[49m\u001b[43m]\u001b[49m \u001b[38;5;28;01mfor\u001b[39;00m idx \u001b[38;5;129;01min\u001b[39;00m possibly_batched_index]\n\u001b[1;32m     59\u001b[0m \u001b[38;5;28;01melse\u001b[39;00m:\n\u001b[1;32m     60\u001b[0m     data \u001b[38;5;241m=\u001b[39m \u001b[38;5;28mself\u001b[39m\u001b[38;5;241m.\u001b[39mdataset[possibly_batched_index]\n",
      "File \u001b[0;32m/local/fogunsan.5668692.0/tmp/kslurm-venv-r7f6d20d/lib/python3.10/site-packages/monai/data/dataset.py:107\u001b[0m, in \u001b[0;36mDataset.__getitem__\u001b[0;34m(self, index)\u001b[0m\n\u001b[1;32m    104\u001b[0m \u001b[38;5;28;01mif\u001b[39;00m \u001b[38;5;28misinstance\u001b[39m(index, collections\u001b[38;5;241m.\u001b[39mabc\u001b[38;5;241m.\u001b[39mSequence):\n\u001b[1;32m    105\u001b[0m     \u001b[38;5;66;03m# dataset[[1, 3, 4]]\u001b[39;00m\n\u001b[1;32m    106\u001b[0m     \u001b[38;5;28;01mreturn\u001b[39;00m Subset(dataset\u001b[38;5;241m=\u001b[39m\u001b[38;5;28mself\u001b[39m, indices\u001b[38;5;241m=\u001b[39mindex)\n\u001b[0;32m--> 107\u001b[0m \u001b[38;5;28;01mreturn\u001b[39;00m \u001b[38;5;28;43mself\u001b[39;49m\u001b[38;5;241;43m.\u001b[39;49m\u001b[43m_transform\u001b[49m\u001b[43m(\u001b[49m\u001b[43mindex\u001b[49m\u001b[43m)\u001b[49m\n",
      "File \u001b[0;32m/local/fogunsan.5668692.0/tmp/kslurm-venv-r7f6d20d/lib/python3.10/site-packages/monai/data/grid_dataset.py:270\u001b[0m, in \u001b[0;36mPatchDataset._transform\u001b[0;34m(self, index)\u001b[0m\n\u001b[1;32m    268\u001b[0m image_id \u001b[38;5;241m=\u001b[39m \u001b[38;5;28mint\u001b[39m(index \u001b[38;5;241m/\u001b[39m \u001b[38;5;28mself\u001b[39m\u001b[38;5;241m.\u001b[39msamples_per_image)\n\u001b[1;32m    269\u001b[0m image \u001b[38;5;241m=\u001b[39m \u001b[38;5;28mself\u001b[39m\u001b[38;5;241m.\u001b[39mdata[image_id]\n\u001b[0;32m--> 270\u001b[0m patches \u001b[38;5;241m=\u001b[39m \u001b[38;5;28;43mself\u001b[39;49m\u001b[38;5;241;43m.\u001b[39;49m\u001b[43mpatch_func\u001b[49m\u001b[43m(\u001b[49m\u001b[43mimage\u001b[49m\u001b[43m)\u001b[49m\n\u001b[1;32m    271\u001b[0m \u001b[38;5;28;01mif\u001b[39;00m \u001b[38;5;28mlen\u001b[39m(patches) \u001b[38;5;241m!=\u001b[39m \u001b[38;5;28mself\u001b[39m\u001b[38;5;241m.\u001b[39msamples_per_image:\n\u001b[1;32m    272\u001b[0m     \u001b[38;5;28;01mraise\u001b[39;00m \u001b[38;5;167;01mRuntimeWarning\u001b[39;00m(\n\u001b[1;32m    273\u001b[0m         \u001b[38;5;124mf\u001b[39m\u001b[38;5;124m\"\u001b[39m\u001b[38;5;124m`patch_func` must return a sequence of length: samples_per_image=\u001b[39m\u001b[38;5;132;01m{\u001b[39;00m\u001b[38;5;28mself\u001b[39m\u001b[38;5;241m.\u001b[39msamples_per_image\u001b[38;5;132;01m}\u001b[39;00m\u001b[38;5;124m.\u001b[39m\u001b[38;5;124m\"\u001b[39m\n\u001b[1;32m    274\u001b[0m     )\n",
      "File \u001b[0;32m/local/fogunsan.5668692.0/tmp/kslurm-venv-r7f6d20d/lib/python3.10/site-packages/monai/transforms/croppad/dictionary.py:871\u001b[0m, in \u001b[0;36mRandCropByPosNegLabeld.__call__\u001b[0;34m(self, data)\u001b[0m\n\u001b[1;32m    868\u001b[0m         ret[i][key] \u001b[38;5;241m=\u001b[39m deepcopy(d[key])\n\u001b[1;32m    870\u001b[0m \u001b[38;5;28;01mfor\u001b[39;00m key \u001b[38;5;129;01min\u001b[39;00m \u001b[38;5;28mself\u001b[39m\u001b[38;5;241m.\u001b[39mkey_iterator(d):\n\u001b[0;32m--> 871\u001b[0m     \u001b[38;5;28;01mfor\u001b[39;00m i, im \u001b[38;5;129;01min\u001b[39;00m \u001b[38;5;28menumerate\u001b[39m(\u001b[38;5;28;43mself\u001b[39;49m\u001b[38;5;241;43m.\u001b[39;49m\u001b[43mcropper\u001b[49m\u001b[43m(\u001b[49m\u001b[43md\u001b[49m\u001b[43m[\u001b[49m\u001b[43mkey\u001b[49m\u001b[43m]\u001b[49m\u001b[43m,\u001b[49m\u001b[43m \u001b[49m\u001b[43mlabel\u001b[49m\u001b[38;5;241;43m=\u001b[39;49m\u001b[43mlabel\u001b[49m\u001b[43m,\u001b[49m\u001b[43m \u001b[49m\u001b[43mrandomize\u001b[49m\u001b[38;5;241;43m=\u001b[39;49m\u001b[38;5;28;43;01mFalse\u001b[39;49;00m\u001b[43m)\u001b[49m):\n\u001b[1;32m    872\u001b[0m         ret[i][key] \u001b[38;5;241m=\u001b[39m im\n\u001b[1;32m    873\u001b[0m \u001b[38;5;28;01mreturn\u001b[39;00m ret\n",
      "File \u001b[0;32m/local/fogunsan.5668692.0/tmp/kslurm-venv-r7f6d20d/lib/python3.10/site-packages/monai/transforms/croppad/array.py:1113\u001b[0m, in \u001b[0;36mRandCropByPosNegLabel.__call__\u001b[0;34m(self, img, label, image, fg_indices, bg_indices, randomize)\u001b[0m\n\u001b[1;32m   1111\u001b[0m \u001b[38;5;28;01mfor\u001b[39;00m i, center \u001b[38;5;129;01min\u001b[39;00m \u001b[38;5;28menumerate\u001b[39m(\u001b[38;5;28mself\u001b[39m\u001b[38;5;241m.\u001b[39mcenters):\n\u001b[1;32m   1112\u001b[0m     roi_size \u001b[38;5;241m=\u001b[39m fall_back_tuple(\u001b[38;5;28mself\u001b[39m\u001b[38;5;241m.\u001b[39mspatial_size, default\u001b[38;5;241m=\u001b[39mlabel\u001b[38;5;241m.\u001b[39mshape[\u001b[38;5;241m1\u001b[39m:])\n\u001b[0;32m-> 1113\u001b[0m     cropped \u001b[38;5;241m=\u001b[39m \u001b[43mSpatialCrop\u001b[49m\u001b[43m(\u001b[49m\u001b[43mroi_center\u001b[49m\u001b[38;5;241;43m=\u001b[39;49m\u001b[43mcenter\u001b[49m\u001b[43m,\u001b[49m\u001b[43m \u001b[49m\u001b[43mroi_size\u001b[49m\u001b[38;5;241;43m=\u001b[39;49m\u001b[43mroi_size\u001b[49m\u001b[43m)\u001b[49m\u001b[43m(\u001b[49m\u001b[43mimg\u001b[49m\u001b[43m)\u001b[49m\n\u001b[1;32m   1114\u001b[0m     \u001b[38;5;28;01mif\u001b[39;00m get_track_meta():\n\u001b[1;32m   1115\u001b[0m         ret_: MetaTensor \u001b[38;5;241m=\u001b[39m cropped  \u001b[38;5;66;03m# type: ignore\u001b[39;00m\n",
      "File \u001b[0;32m/local/fogunsan.5668692.0/tmp/kslurm-venv-r7f6d20d/lib/python3.10/site-packages/monai/transforms/croppad/array.py:511\u001b[0m, in \u001b[0;36mSpatialCrop.__call__\u001b[0;34m(self, img)\u001b[0m\n\u001b[1;32m    505\u001b[0m \u001b[38;5;28;01mdef\u001b[39;00m \u001b[38;5;21m__call__\u001b[39m(\u001b[38;5;28mself\u001b[39m, img: torch\u001b[38;5;241m.\u001b[39mTensor) \u001b[38;5;241m-\u001b[39m\u001b[38;5;241m>\u001b[39m torch\u001b[38;5;241m.\u001b[39mTensor:  \u001b[38;5;66;03m# type: ignore\u001b[39;00m\n\u001b[1;32m    506\u001b[0m \u001b[38;5;250m    \u001b[39m\u001b[38;5;124;03m\"\"\"\u001b[39;00m\n\u001b[1;32m    507\u001b[0m \u001b[38;5;124;03m    Apply the transform to `img`, assuming `img` is channel-first and\u001b[39;00m\n\u001b[1;32m    508\u001b[0m \u001b[38;5;124;03m    slicing doesn't apply to the channel dim.\u001b[39;00m\n\u001b[1;32m    509\u001b[0m \n\u001b[1;32m    510\u001b[0m \u001b[38;5;124;03m    \"\"\"\u001b[39;00m\n\u001b[0;32m--> 511\u001b[0m     \u001b[38;5;28;01mreturn\u001b[39;00m \u001b[38;5;28;43msuper\u001b[39;49m\u001b[43m(\u001b[49m\u001b[43m)\u001b[49m\u001b[38;5;241;43m.\u001b[39;49m\u001b[38;5;21;43m__call__\u001b[39;49m\u001b[43m(\u001b[49m\u001b[43mimg\u001b[49m\u001b[38;5;241;43m=\u001b[39;49m\u001b[43mimg\u001b[49m\u001b[43m,\u001b[49m\u001b[43m \u001b[49m\u001b[43mslices\u001b[49m\u001b[38;5;241;43m=\u001b[39;49m\u001b[38;5;28;43mself\u001b[39;49m\u001b[38;5;241;43m.\u001b[39;49m\u001b[43mslices\u001b[49m\u001b[43m)\u001b[49m\n",
      "File \u001b[0;32m/local/fogunsan.5668692.0/tmp/kslurm-venv-r7f6d20d/lib/python3.10/site-packages/monai/transforms/croppad/array.py:447\u001b[0m, in \u001b[0;36mCrop.__call__\u001b[0;34m(self, img, slices)\u001b[0m\n\u001b[1;32m    445\u001b[0m \u001b[38;5;28;01mif\u001b[39;00m get_track_meta():\n\u001b[1;32m    446\u001b[0m     \u001b[38;5;28mself\u001b[39m\u001b[38;5;241m.\u001b[39mupdate_meta(tensor\u001b[38;5;241m=\u001b[39mimg_t, slices\u001b[38;5;241m=\u001b[39mslices)\n\u001b[0;32m--> 447\u001b[0m     cropped_from_start \u001b[38;5;241m=\u001b[39m \u001b[43mnp\u001b[49m\u001b[38;5;241;43m.\u001b[39;49m\u001b[43masarray\u001b[49m\u001b[43m(\u001b[49m\u001b[43m[\u001b[49m\u001b[43ms\u001b[49m\u001b[38;5;241;43m.\u001b[39;49m\u001b[43mindices\u001b[49m\u001b[43m(\u001b[49m\u001b[43mo\u001b[49m\u001b[43m)\u001b[49m\u001b[43m[\u001b[49m\u001b[38;5;241;43m0\u001b[39;49m\u001b[43m]\u001b[49m\u001b[43m \u001b[49m\u001b[38;5;28;43;01mfor\u001b[39;49;00m\u001b[43m \u001b[49m\u001b[43ms\u001b[49m\u001b[43m,\u001b[49m\u001b[43m \u001b[49m\u001b[43mo\u001b[49m\u001b[43m \u001b[49m\u001b[38;5;129;43;01min\u001b[39;49;00m\u001b[43m \u001b[49m\u001b[38;5;28;43mzip\u001b[39;49m\u001b[43m(\u001b[49m\u001b[43mslices\u001b[49m\u001b[43m[\u001b[49m\u001b[38;5;241;43m1\u001b[39;49m\u001b[43m:\u001b[49m\u001b[43m]\u001b[49m\u001b[43m,\u001b[49m\u001b[43m \u001b[49m\u001b[43morig_size\u001b[49m\u001b[43m)\u001b[49m\u001b[43m]\u001b[49m\u001b[43m)\u001b[49m\n\u001b[1;32m    448\u001b[0m     cropped_from_end \u001b[38;5;241m=\u001b[39m np\u001b[38;5;241m.\u001b[39masarray(orig_size) \u001b[38;5;241m-\u001b[39m img_t\u001b[38;5;241m.\u001b[39mshape[\u001b[38;5;241m1\u001b[39m:] \u001b[38;5;241m-\u001b[39m cropped_from_start\n\u001b[1;32m    449\u001b[0m     cropped \u001b[38;5;241m=\u001b[39m \u001b[38;5;28mlist\u001b[39m(chain(\u001b[38;5;241m*\u001b[39m\u001b[38;5;28mzip\u001b[39m(cropped_from_start\u001b[38;5;241m.\u001b[39mtolist(), cropped_from_end\u001b[38;5;241m.\u001b[39mtolist())))\n",
      "\u001b[0;31mKeyboardInterrupt\u001b[0m: "
     ]
    }
   ],
   "source": [
    "import time\n",
    "learning_rate = 2e-4\n",
    "betas = (0.5, 0.999)\n",
    "cnn_opt = torch.optim.Adam(CNN_model.parameters(), lr = learning_rate, betas=betas)\n",
    "\n",
    "start = time.time() # initializing variable to calculate training time\n",
    "max_epochs = 100 # max total iterations over entire training set\n",
    "mean_squared = MeanSquaredError(squared = False).to(device) # metric for validation calculated at the end of each epoch\n",
    "mse_error = [0] # list of validation loss calculated at the end of each epoch\n",
    "epoch_loss_values = [0] # list of training loss calculated at the end of each epoch\n",
    "train_loader = DataLoader(train_patches_dataset, batch_size=batch_size, shuffle=True)\n",
    "print('finished loading dataloader')\n",
    "val_loader = DataLoader(validate_patches_dataset, batch_size=batch_size, shuffle=True)\n",
    "for epoch in range(max_epochs):\n",
    "    CNN_model.train() # setting model to training mode\n",
    "    epoch_loss = 0 # total traininig loss in an epoch\n",
    "    for i,train_batch in enumerate(train_loader): # iterating through dataloader\n",
    "        \n",
    "        progress_bar(\n",
    "            index=i+1, # displays what step we are of current epoch, our epoch number, training (rmse loss) \n",
    "            count = training_sample_size, \n",
    "            desc= f\"epoch {epoch + 1}, training rmse loss: {epoch_loss_values[-1]:.4f}\",\n",
    "            newline = True\n",
    "        ) # progress bar to display current stage in training\n",
    "        cnn_opt.zero_grad()\n",
    "        gad_images = train_batch['image'].cuda()# gad images of batch\n",
    "        nongad_images = train_batch['label'].cuda() # nongad images of batch\n",
    "        degad_images = CNN_model(gad_images) # feeding CNN with gad images\n",
    "        mse_loss= nn.MSELoss() \n",
    "        loss = torch.sqrt(mse_loss(degad_images, nongad_images))# convert mse to rmse\n",
    "        loss.backward()\n",
    "        cnn_opt.step()\n",
    "        epoch_loss += loss.item() # adding loss for this batch to the total training loss for this epoch\n",
    "    \n",
    "    epoch_loss_values.append(epoch_loss / training_sample_size) # append total epoch loss divided by the number of steps in sample to the epoch loss list\n",
    "    CNN_model.eval() #setting model to evaluation mode for training\n",
    "    with torch.no_grad():\n",
    "        mean_squared.reset() # resetting metric state for every epoch\n",
    "        mse_total_epoch = 0 # mean squared error for the entire epoch\n",
    "        for i,val_batch in enumerate(val_loader): # iterating through dataloader\n",
    "            progress_bar(\n",
    "            index=i+1, # displays what step we are of current epoch, our epoch number,  val (rmse metric) values\n",
    "            count = training_sample_size, \n",
    "            desc= f\"epoch {epoch + 1}, validation rmse metric: {mse_error[-1]:.4f}\",\n",
    "            newline = True\n",
    "        )   #progress bar to display current stage in training\n",
    "            gad_images =val_batch[\"image\"].cuda()# batch with gad images\n",
    "            nongad_images = val_batch[\"label\"].cuda() # batch with nongad images\n",
    "            degad_images = CNN_model(gad_images)\n",
    "            val_mse = mean_squared(degad_images, nongad_images)\n",
    "            mse_total_epoch = mse_total_epoch + val_mse # adding mse of this batch to total epoch mse\n",
    "        mse_error.append(mse_total_epoch.item()/(validate_sample_size )) # dividing total mse in this epoch by the number of batches -> add to list of epoch mse\n",
    "        \n",
    "end = time.time()\n",
    "time = end - start\n",
    "print(time)"
   ]
  },
  {
   "cell_type": "code",
   "execution_count": null,
   "metadata": {},
   "outputs": [],
   "source": [
    "with open ('/home/fogunsan/scratch/degad/derivatives/UNET/April20/model_stats.txt', 'w') as file:  \n",
    "    file.write(f'training time: {time}\\n')  \n",
    "    file.write(f'training loss: {epoch_loss_values[-1]} validation loss: {mse_error[-1]}')"
   ]
  },
  {
   "cell_type": "code",
   "execution_count": null,
   "metadata": {},
   "outputs": [],
   "source": [
    "torch.save(CNN_model.state_dict(), \"/home/fogunsan/scratch/degad/derivatives/UNET/April20/trained_unet.pt\")"
   ]
  },
  {
   "cell_type": "code",
   "execution_count": 27,
   "metadata": {},
   "outputs": [
    {
     "data": {
      "image/png": "[encoded data removed]",
      "text/plain": [
       "<Figure size 1200x500 with 1 Axes>"
      ]
     },
     "metadata": {},
     "output_type": "display_data"
    }
   ],
   "source": [
    "plt.figure(figsize=(12, 5))\n",
    "plt.semilogy(*zip(*epoch_loss_values), label=\"Training Loss\")\n",
    "plt.semilogy(*zip(*mse_error), label=\"Validation Loss\")\n",
    "plt.grid(True, \"both\", \"both\")\n",
    "plt.legend()\n",
    "plt.savefig('/home/fogunsan/scratch/degad/derivatives/UNET/April20/lossfunction.png')\n"
   ]
  }
 ],
 "metadata": {
  "interpreter": {
   "hash": "916dbcbb3f70747c44a77c7bcd40155683ae19c65e1c03b4aa3499c5328201f1"
  },
  "kernelspec": {
   "display_name": "Python 3 (ipykernel)",
   "language": "python",
   "name": "python3"
  },
  "language_info": {
   "codemirror_mode": {
    "name": "ipython",
    "version": 3
   },
   "file_extension": ".py",
   "mimetype": "text/x-python",
   "name": "python",
   "nbconvert_exporter": "python",
   "pygments_lexer": "ipython3",
   "version": "3.10.2"
  }
 },
 "nbformat": 4,
 "nbformat_minor": 4
}
