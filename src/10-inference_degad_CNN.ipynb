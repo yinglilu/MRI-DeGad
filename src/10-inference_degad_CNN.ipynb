{
 "cells": [
  {
   "cell_type": "code",
   "execution_count": 1,
   "metadata": {},
   "outputs": [
    {
     "name": "stderr",
     "output_type": "stream",
     "text": [
      "/local/fogunsan.9396911.0/tmp/kslurm-venv-nhflgom4/lib/python3.10/site-packages/tqdm/auto.py:21: TqdmWarning: IProgress not found. Please update jupyter and ipywidgets. See https://ipywidgets.readthedocs.io/en/stable/user_install.html\n",
      "  from .autonotebook import tqdm as notebook_tqdm\n"
     ]
    }
   ],
   "source": [
    "import monai \n",
    "from monai.transforms import (\n",
    "    Compose,\n",
    "    LoadImaged,\n",
    "    RandCropByPosNegLabeld,\n",
    "    EnsureChannelFirstd,\n",
    "    ScaleIntensityd,\n",
    "    Spacingd)\n",
    "import nibabel\n",
    "import tqdm\n",
    "from torchmetrics import MeanSquaredError\n",
    "import time\n",
    "from monai.networks.nets import UNet\n",
    "from monai.inferers import sliding_window_inference\n",
    "from monai.data import CacheDataset, Dataset ,nifti_saver, PatchDataset, DataLoader, PersistentDataset\n",
    "import torch\n",
    "import matplotlib.pyplot as plt\n",
    "import tempfile\n",
    "import shutil\n",
    "import os\n",
    "from glob import glob\n",
    "from monai.networks.blocks import Convolution\n",
    "from monai.utils import progress_bar\n",
    "import torch.nn as nn\n",
    "import torchmetrics \n",
    "from pytorchtools import EarlyStopping"
   ]
  },
  {
   "cell_type": "code",
   "execution_count": 2,
   "metadata": {},
   "outputs": [],
   "source": [
    "date = \"July13\" # day we're getting models from\n",
    "test_gad_t1= sorted(glob('/project/6050199/akhanf/cfmm-bids/data/Lau/degad/derivatives/passing_dataset/sub-P*/*rescaled_T1w.nii.gz'))[-4:]\n",
    "# gad images who's corresponding nongad images underwent a rigid transform\n",
    "test_nongad_t1= sorted(glob('/project/6050199/akhanf/cfmm-bids/data/Lau/degad/derivatives/passing_dataset/sub-P*/*nongad_normalized_fcm.nii.gz'))[-4:] # nongad images which underwent a rigid transform and underwent fcm normalization\n",
    "test_files = [{\"image\": gad_name, \"label\": nongad_name} for gad_name, nongad_name in zip(test_gad_t1,test_nongad_t1)] #creates list of dictionaries, with gad and nongad images labelled\n",
    "\n"
   ]
  },
  {
   "cell_type": "code",
   "execution_count": 3,
   "metadata": {},
   "outputs": [],
   "source": [
    "CNN=UNet(\n",
    "            spatial_dims=3,\n",
    "            in_channels=1,\n",
    "            out_channels=1,\n",
    "            channels=(16, 32,64,128,256,512,512,512),\n",
    "            strides=(2, 2, 2, 2,1,1,1),\n",
    "            dropout= 0.2,\n",
    "            norm = 'BATCH'\n",
    "        )\n",
    "\n",
    "device = torch.device(\"cuda\" if torch.cuda.is_available() else \"cpu\") # PyTorch v0.4.0\n",
    "CNN.apply(monai.networks.normal_init)\n",
    "CNN_model = CNN.to(device)"
   ]
  },
  {
   "cell_type": "code",
   "execution_count": 4,
   "metadata": {},
   "outputs": [
    {
     "data": {
      "text/plain": [
       "UNet(\n",
       "  (model): Sequential(\n",
       "    (0): Convolution(\n",
       "      (conv): Conv3d(1, 16, kernel_size=(3, 3, 3), stride=(2, 2, 2), padding=(1, 1, 1))\n",
       "      (adn): ADN(\n",
       "        (N): BatchNorm3d(16, eps=1e-05, momentum=0.1, affine=True, track_running_stats=True)\n",
       "        (D): Dropout(p=0.2, inplace=False)\n",
       "        (A): PReLU(num_parameters=1)\n",
       "      )\n",
       "    )\n",
       "    (1): SkipConnection(\n",
       "      (submodule): Sequential(\n",
       "        (0): Convolution(\n",
       "          (conv): Conv3d(16, 32, kernel_size=(3, 3, 3), stride=(2, 2, 2), padding=(1, 1, 1))\n",
       "          (adn): ADN(\n",
       "            (N): BatchNorm3d(32, eps=1e-05, momentum=0.1, affine=True, track_running_stats=True)\n",
       "            (D): Dropout(p=0.2, inplace=False)\n",
       "            (A): PReLU(num_parameters=1)\n",
       "          )\n",
       "        )\n",
       "        (1): SkipConnection(\n",
       "          (submodule): Sequential(\n",
       "            (0): Convolution(\n",
       "              (conv): Conv3d(32, 64, kernel_size=(3, 3, 3), stride=(2, 2, 2), padding=(1, 1, 1))\n",
       "              (adn): ADN(\n",
       "                (N): BatchNorm3d(64, eps=1e-05, momentum=0.1, affine=True, track_running_stats=True)\n",
       "                (D): Dropout(p=0.2, inplace=False)\n",
       "                (A): PReLU(num_parameters=1)\n",
       "              )\n",
       "            )\n",
       "            (1): SkipConnection(\n",
       "              (submodule): Sequential(\n",
       "                (0): Convolution(\n",
       "                  (conv): Conv3d(64, 128, kernel_size=(3, 3, 3), stride=(2, 2, 2), padding=(1, 1, 1))\n",
       "                  (adn): ADN(\n",
       "                    (N): BatchNorm3d(128, eps=1e-05, momentum=0.1, affine=True, track_running_stats=True)\n",
       "                    (D): Dropout(p=0.2, inplace=False)\n",
       "                    (A): PReLU(num_parameters=1)\n",
       "                  )\n",
       "                )\n",
       "                (1): SkipConnection(\n",
       "                  (submodule): Sequential(\n",
       "                    (0): Convolution(\n",
       "                      (conv): Conv3d(128, 256, kernel_size=(3, 3, 3), stride=(1, 1, 1), padding=(1, 1, 1))\n",
       "                      (adn): ADN(\n",
       "                        (N): BatchNorm3d(256, eps=1e-05, momentum=0.1, affine=True, track_running_stats=True)\n",
       "                        (D): Dropout(p=0.2, inplace=False)\n",
       "                        (A): PReLU(num_parameters=1)\n",
       "                      )\n",
       "                    )\n",
       "                    (1): SkipConnection(\n",
       "                      (submodule): Sequential(\n",
       "                        (0): Convolution(\n",
       "                          (conv): Conv3d(256, 512, kernel_size=(3, 3, 3), stride=(1, 1, 1), padding=(1, 1, 1))\n",
       "                          (adn): ADN(\n",
       "                            (N): BatchNorm3d(512, eps=1e-05, momentum=0.1, affine=True, track_running_stats=True)\n",
       "                            (D): Dropout(p=0.2, inplace=False)\n",
       "                            (A): PReLU(num_parameters=1)\n",
       "                          )\n",
       "                        )\n",
       "                        (1): SkipConnection(\n",
       "                          (submodule): Sequential(\n",
       "                            (0): Convolution(\n",
       "                              (conv): Conv3d(512, 512, kernel_size=(3, 3, 3), stride=(1, 1, 1), padding=(1, 1, 1))\n",
       "                              (adn): ADN(\n",
       "                                (N): BatchNorm3d(512, eps=1e-05, momentum=0.1, affine=True, track_running_stats=True)\n",
       "                                (D): Dropout(p=0.2, inplace=False)\n",
       "                                (A): PReLU(num_parameters=1)\n",
       "                              )\n",
       "                            )\n",
       "                            (1): SkipConnection(\n",
       "                              (submodule): Convolution(\n",
       "                                (conv): Conv3d(512, 512, kernel_size=(3, 3, 3), stride=(1, 1, 1), padding=(1, 1, 1))\n",
       "                                (adn): ADN(\n",
       "                                  (N): BatchNorm3d(512, eps=1e-05, momentum=0.1, affine=True, track_running_stats=True)\n",
       "                                  (D): Dropout(p=0.2, inplace=False)\n",
       "                                  (A): PReLU(num_parameters=1)\n",
       "                                )\n",
       "                              )\n",
       "                            )\n",
       "                            (2): Convolution(\n",
       "                              (conv): ConvTranspose3d(1024, 512, kernel_size=(3, 3, 3), stride=(1, 1, 1), padding=(1, 1, 1))\n",
       "                              (adn): ADN(\n",
       "                                (N): BatchNorm3d(512, eps=1e-05, momentum=0.1, affine=True, track_running_stats=True)\n",
       "                                (D): Dropout(p=0.2, inplace=False)\n",
       "                                (A): PReLU(num_parameters=1)\n",
       "                              )\n",
       "                            )\n",
       "                          )\n",
       "                        )\n",
       "                        (2): Convolution(\n",
       "                          (conv): ConvTranspose3d(1024, 256, kernel_size=(3, 3, 3), stride=(1, 1, 1), padding=(1, 1, 1))\n",
       "                          (adn): ADN(\n",
       "                            (N): BatchNorm3d(256, eps=1e-05, momentum=0.1, affine=True, track_running_stats=True)\n",
       "                            (D): Dropout(p=0.2, inplace=False)\n",
       "                            (A): PReLU(num_parameters=1)\n",
       "                          )\n",
       "                        )\n",
       "                      )\n",
       "                    )\n",
       "                    (2): Convolution(\n",
       "                      (conv): ConvTranspose3d(512, 128, kernel_size=(3, 3, 3), stride=(1, 1, 1), padding=(1, 1, 1))\n",
       "                      (adn): ADN(\n",
       "                        (N): BatchNorm3d(128, eps=1e-05, momentum=0.1, affine=True, track_running_stats=True)\n",
       "                        (D): Dropout(p=0.2, inplace=False)\n",
       "                        (A): PReLU(num_parameters=1)\n",
       "                      )\n",
       "                    )\n",
       "                  )\n",
       "                )\n",
       "                (2): Convolution(\n",
       "                  (conv): ConvTranspose3d(256, 64, kernel_size=(3, 3, 3), stride=(2, 2, 2), padding=(1, 1, 1), output_padding=(1, 1, 1))\n",
       "                  (adn): ADN(\n",
       "                    (N): BatchNorm3d(64, eps=1e-05, momentum=0.1, affine=True, track_running_stats=True)\n",
       "                    (D): Dropout(p=0.2, inplace=False)\n",
       "                    (A): PReLU(num_parameters=1)\n",
       "                  )\n",
       "                )\n",
       "              )\n",
       "            )\n",
       "            (2): Convolution(\n",
       "              (conv): ConvTranspose3d(128, 32, kernel_size=(3, 3, 3), stride=(2, 2, 2), padding=(1, 1, 1), output_padding=(1, 1, 1))\n",
       "              (adn): ADN(\n",
       "                (N): BatchNorm3d(32, eps=1e-05, momentum=0.1, affine=True, track_running_stats=True)\n",
       "                (D): Dropout(p=0.2, inplace=False)\n",
       "                (A): PReLU(num_parameters=1)\n",
       "              )\n",
       "            )\n",
       "          )\n",
       "        )\n",
       "        (2): Convolution(\n",
       "          (conv): ConvTranspose3d(64, 16, kernel_size=(3, 3, 3), stride=(2, 2, 2), padding=(1, 1, 1), output_padding=(1, 1, 1))\n",
       "          (adn): ADN(\n",
       "            (N): BatchNorm3d(16, eps=1e-05, momentum=0.1, affine=True, track_running_stats=True)\n",
       "            (D): Dropout(p=0.2, inplace=False)\n",
       "            (A): PReLU(num_parameters=1)\n",
       "          )\n",
       "        )\n",
       "      )\n",
       "    )\n",
       "    (2): Convolution(\n",
       "      (conv): ConvTranspose3d(32, 1, kernel_size=(3, 3, 3), stride=(2, 2, 2), padding=(1, 1, 1), output_padding=(1, 1, 1))\n",
       "    )\n",
       "  )\n",
       ")"
      ]
     },
     "execution_count": 4,
     "metadata": {},
     "output_type": "execute_result"
    }
   ],
   "source": [
    "CNN_model.load_state_dict(torch.load(f'/home/fogunsan/scratch/degad/derivatives/UNET/{date}/checkpoint.pt'))\n",
    "CNN_model.eval()"
   ]
  },
  {
   "cell_type": "code",
   "execution_count": 6,
   "metadata": {},
   "outputs": [],
   "source": [
    "inference_transforms = Compose( #loading full image\n",
    "    [\n",
    "        LoadImaged(keys=[\"image\", \"label\"]),\n",
    "        EnsureChannelFirstd(keys=[\"image\", \"label\"]),\n",
    "        ])\n",
    "        \n",
    "\n",
    "infer_ds = Dataset(data=test_files, transform=inference_transforms) \n",
    "infer_loader = DataLoader(infer_ds, batch_size=1, shuffle=True) #using pytorch's dataloader\n",
    "\n",
    "\n"
   ]
  },
  {
   "cell_type": "code",
   "execution_count": 7,
   "metadata": {},
   "outputs": [
    {
     "name": "stderr",
     "output_type": "stream",
     "text": [
      "100%|██████████| 264/264 [00:09<00:00, 28.42it/s]\n"
     ]
    }
   ],
   "source": [
    "degad_imgs = []\n",
    "gad_infer_imgs = []\n",
    "nongad_infer_imgs = []\n",
    "for infer_imgs in infer_loader:\n",
    "    gad_infer_imgs.append(infer_imgs[\"image\"])\n",
    "    nongad_infer_imgs.append(infer_imgs[\"label\"])\n",
    "    output_degad_img = sliding_window_inference(inputs = infer_imgs[\"image\"].to('cpu'), roi_size = (32,32,32), sw_batch_size= 5, predictor = CNN_model.to('cuda'), overlap = 0.25, mode = \"gaussian\", sw_device= 'cuda', device = 'cpu', progress = True )\n",
    "    \n",
    "    degad_imgs.append(output_degad_img)"
   ]
  },
  {
   "cell_type": "code",
   "execution_count": 8,
   "metadata": {},
   "outputs": [],
   "source": [
    "sub_list = []"
   ]
  },
  {
   "cell_type": "code",
   "execution_count": 9,
   "metadata": {},
   "outputs": [],
   "source": [
    "for i in range(len(degad_imgs)): #looping thru number of output files\n",
    "    degad_img =degad_imgs[i][0][0] # reshaping to exclude batch and channels (only one channel)\n",
    "    gad_image= nibabel.load(test_files[i][\"image\"]) # getting original gad image back to compare to \n",
    "    gad_image_file = test_files[i][\"image\"]\n",
    "    sub = os.path.basename(gad_image_file).split(\"_\")[0]\n",
    "    sub_list.append(sub)\n",
    "    degad_name = f'{sub}_acq-degad_T1w.nii.gz'\n",
    "    degad_file = nibabel.Nifti1Image(degad_img.detach().numpy()*100, affine= gad_image.affine,header= gad_image.header) # with same header as inference gad \n",
    "    output_dir = f'/home/fogunsan/scratch/degad/derivatives/UNET/{date}/degad_outputs'\n",
    "    os.makedirs(f'{output_dir}/bids/{sub}/ses-pre/anat', exist_ok=True)# save in bids format\n",
    "    output_path = f'{output_dir}/bids/{sub}/ses-pre/anat/{degad_name}'\n",
    "    nibabel.save(degad_file,output_path) "
   ]
  },
  {
   "cell_type": "code",
   "execution_count": 10,
   "metadata": {},
   "outputs": [],
   "source": [
    "### to make a descriptionfile, changes, scans.json, readme, participants.json and participants.t"
   ]
  },
  {
   "cell_type": "code",
   "execution_count": 11,
   "metadata": {},
   "outputs": [],
   "source": [
    "# List of necessary files to copy to put in bids format\n",
    "files = ['CHANGES', 'scans.json', 'dataset_description.json','participants.json','README']\n",
    "\n",
    "# Copy each file to the destination directory\n",
    "for file in files:\n",
    "    shutil.copy(f'/project/6050199/akhanf/cfmm-bids/data/Lau/degad/bids/{file}', f'/home/fogunsan/scratch/degad/derivatives/UNET/{date}/degad_outputs/bids/')"
   ]
  },
  {
   "cell_type": "code",
   "execution_count": 12,
   "metadata": {},
   "outputs": [],
   "source": [
    "\n",
    "\n",
    "with open('/project/6050199/akhanf/cfmm-bids/data/Lau/degad/bids/participants.tsv', 'r') as file:\n",
    "    lines = file.readlines()\n",
    "    header = lines[0]\n",
    "    matching_rows = [line for line in lines[1:] if line.split()[0] in sub_list]\n",
    "\n",
    "with open(f'/home/fogunsan/scratch/degad/derivatives/UNET/{date}/degad_outputs/bids/participants.tsv', 'w') as file:\n",
    "    file.write(header)\n",
    "    file.writelines(matching_rows)\n",
    "    \n",
    "    "
   ]
  },
  {
   "cell_type": "code",
   "execution_count": null,
   "metadata": {},
   "outputs": [],
   "source": [
    "import random\n",
    "## generating random whole brain slices\n",
    "fig, axes = plt.subplots(8, 3,figsize=(10,25))\n",
    "plt.suptitle('Whole brain slices: Gad, NonGad, Degad')\n",
    "\n",
    "for i in range (1,25,3):\n",
    "    plt.subplot(8, 3, i)\n",
    "    x = random.randint(80, 190)\n",
    "    plt.imshow(gad_infer_imgs[0][0, 0,40:210 ,40:150, x].cpu().data.numpy(), cmap =\"gray\")\n",
    "    \n",
    "    plt.subplot(8, 3, i+1)\n",
    "    plt.imshow(nongad_infer_imgs[0][0, 0, 40:210 , 40:150, x].cpu().data.numpy(), \"gray\")\n",
    "    \n",
    "    plt.subplot(8, 3, i+2)\n",
    "    plt.imshow(degad_imgs[0][0, 0, 40:210,40:150, x].cpu().data.numpy(), \"gray\")\n",
    "\n",
    "plt.savefig(f'/home/fogunsan/scratch/degad/derivatives/UNET/{date}/degad_outputs/figure_whole_brain.png')\n",
    "   "
   ]
  },
  {
   "cell_type": "code",
   "execution_count": null,
   "metadata": {
    "tags": []
   },
   "outputs": [],
   "source": [
    "#generating random 32x32 slices\n",
    "fig, axes = plt.subplots(8, 4,figsize=(10,20))\n",
    "plt.suptitle('Whole brain slices: Gad, NonGad, Degad')\n",
    "\n",
    "for i in range (1,25,3):\n",
    "    \n",
    "    x = random.randint(40, 190)\n",
    "    y = random.randint(40, 190)\n",
    "    z = random.randint(40, 190)\n",
    "    plt.subplot(8, 3, i)\n",
    "    plt.imshow(gad_infer_imgs[0][0, 0, x:x+32,y:y+32 ,50].cpu().data.numpy(), cmap =\"gray\")\n",
    "    plt.subplot(8, 3, i+1)\n",
    "    plt.imshow(nongad_infer_imgs[0][0, 0, x:x+32,y:y+32 ,50].cpu().data.numpy(), \"gray\")\n",
    "    plt.subplot(8, 3, i+2)\n",
    "    plt.imshow(degad_imgs[0][0, 0, x:x+32,y:y+32,50].cpu().data.numpy(), \"gray\")\n",
    "   \n",
    "\n",
    "plt.savefig(f'/home/fogunsan/scratch/degad/derivatives/UNET/{date}/degad_outputs/figure_32_patches.png')    "
   ]
  }
 ],
 "metadata": {
  "interpreter": {
   "hash": "916dbcbb3f70747c44a77c7bcd40155683ae19c65e1c03b4aa3499c5328201f1"
  },
  "kernelspec": {
   "display_name": "Python 3 (ipykernel)",
   "language": "python",
   "name": "python3"
  },
  "language_info": {
   "codemirror_mode": {
    "name": "ipython",
    "version": 3
   },
   "file_extension": ".py",
   "mimetype": "text/x-python",
   "name": "python",
   "nbconvert_exporter": "python",
   "pygments_lexer": "ipython3",
   "version": "3.10.2"
  }
 },
 "nbformat": 4,
 "nbformat_minor": 4
}
