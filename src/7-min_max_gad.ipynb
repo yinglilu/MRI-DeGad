{
 "cells": [
  {
   "cell_type": "code",
   "execution_count": null,
   "id": "f771399f-6088-4261-a47c-b62f3d519a97",
   "metadata": {},
   "outputs": [],
   "source": [
    "import numpy as np\n",
    "import nibabel as nib\n",
    "\n",
    "# Load the NIfTI image\n",
    "sub_path = '/project/6050199/akhanf/cfmm-bids/data/Lau/degad/derivatives/passing_dataset/passing_dataset.txt'\n",
    "input_dir = '/project/6050199/akhanf/cfmm-bids/data/Lau/degad/derivatives/resampled/gad'\n",
    "output_dir = '/project/6050199/akhanf/cfmm-bids/data/Lau/degad/derivatives/passing_dataset'\n",
    "\n",
    "# Read the contents of the text file into a list\n",
    "\n",
    "with open(sub_path, 'r') as file:\n",
    "    for sub in file:\n",
    "        sub = sub.strip()\n",
    "        image_path = f'{input_dir}/{sub}/{sub}_acq-gad_resampled_T1w.nii.gz'  # Replace with the actual path to your NIfTI image file\n",
    "        image_nifti = nib.load(image_path)\n",
    "        image_array = image_nifti.get_fdata()\n",
    "        scaled_image = (image_array - np.min(image_array)) / (np.max(image_array) - np.min(image_array))\n",
    "        scaled_image_nifti = nib.Nifti1Image(scaled_image, image_nifti.affine, image_nifti.header)\n",
    "        output_path = f'{output_dir}/{sub}/{sub}_acq-gad_rescaled_T1w.nii.gz'  # Replace with the desired path to save the scaled image\n",
    "        nib.save(scaled_image_nifti, output_path)"
   ]
  }
 ],
 "metadata": {
  "kernelspec": {
   "display_name": "Python 3 (ipykernel)",
   "language": "python",
   "name": "python3"
  },
  "language_info": {
   "codemirror_mode": {
    "name": "ipython",
    "version": 3
   },
   "file_extension": ".py",
   "mimetype": "text/x-python",
   "name": "python",
   "nbconvert_exporter": "python",
   "pygments_lexer": "ipython3",
   "version": "3.10.2"
  }
 },
 "nbformat": 4,
 "nbformat_minor": 5
}
