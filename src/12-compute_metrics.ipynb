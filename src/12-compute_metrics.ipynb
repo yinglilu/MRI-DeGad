{
 "cells": [
  {
   "cell_type": "code",
   "execution_count": 25,
   "id": "dd1a2791-b74f-45d4-a9cb-db25f5dc3b95",
   "metadata": {},
   "outputs": [],
   "source": [
    "# script to compute independent metrics on MRI-gad, MRI-nogad, MRI-degad, MRI-synthsr and paired metrics (MRI-degad to MRI-gad), (MRI-synthsr to MRI-gad),(MRI-degad to MRI-nogad),(MRI-synthsr to MRI-nogad)"
   ]
  },
  {
   "cell_type": "code",
   "execution_count": 22,
   "id": "911d292d-25ca-484f-8b78-dd37b172224b",
   "metadata": {},
   "outputs": [],
   "source": [
    "from glob import glob\n",
    "import os\n",
    "import numpy as np\n",
    "from collections import defaultdict\n",
    "import monai.metrics \n",
    "import nibabel as nib\n",
    "import torch\n",
    "import matplotlib.pyplot as plt\n",
    "import tempfile\n",
    "import shutil\n",
    "import pandas as pd\n",
    "import math\n",
    "from torchvision.transforms import CenterCrop\n",
    "from monai.networks.nets import UNet\n",
    "from monai.inferers import sliding_window_inference\n",
    "from monai.data import CacheDataset, Dataset ,nifti_saver, PatchDataset, DataLoader, PersistentDataset\n",
    "from monai.transforms import (\n",
    "    Compose,\n",
    "    LoadImaged,\n",
    "    RandCropByPosNegLabeld,\n",
    "    EnsureChannelFirstd,\n",
    "    ScaleIntensityd,\n",
    "    CenterSpatialCropd,\n",
    "    CenterSpatialCrop,\n",
    "    SpatialCrop,\n",
    "    Spacingd)\n",
    "\n",
    "import torch\n",
    "from torch.nn.functional import mse_loss\n",
    "from ignite.metrics import SSIM\n"
   ]
  },
  {
   "cell_type": "code",
   "execution_count": 27,
   "id": "fc245e80-e250-4a41-9457-c662d5b8f424",
   "metadata": {},
   "outputs": [],
   "source": [
    "date=\"July5\"#date of model of outputs we're computing stats on\n",
    "model=\"UNET\""
   ]
  },
  {
   "cell_type": "code",
   "execution_count": 3,
   "id": "0316cd3d-a6ee-4935-b090-76418247452d",
   "metadata": {},
   "outputs": [],
   "source": [
    "MRI_degad= sorted(glob(f'/home/fogunsan/scratch/degad/derivatives/{model}/{date}/degad_outputs/bids/sub-*/ses-pre/anat/sub-*_acq-degad_T1w.nii.gz'))# gad images who's corresponding nongad images underwent a rigid transform\n",
    "MRI_synth= sorted(glob(f'/project/6050199/akhanf/cfmm-bids/data/Lau/degad/derivatives/synthsr/bids/sub-*/ses-pre/anat/sub-*_ses-pre_acq-gad_run-1_desc-preproc_SynthSR_T1w.nii.gz')) # nongad images which underwent a rigid transform and underwent fcm normalization\n",
    "MRI_gad=sorted(glob(f'/project/6050199/akhanf/cfmm-bids/data/Lau/degad/derivatives/degad_bids_gad/sub-*/ses-pre/anat/sub-*_ses-pre_acq-gad_run-01_T1w.nii.gz') + glob(f'/project/6050199/akhanf/cfmm-bids/data/Lau/degad/derivatives/degad_bids_56_63/bids_gad/sub-*/ses-pre/anat/sub-*_ses-pre_acq-gad_run-01_T1w.nii.gz'))\n",
    "MRI_nongad=sorted(glob(f'/project/6050199/akhanf/cfmm-bids/data/Lau/degad/derivatives/degad_bids_nongad/sub-*/ses-pre/anat/sub-*_ses-pre_acq-nongad_run-01_T1w.nii.gz') + glob(f'/project/6050199/akhanf/cfmm-bids/data/Lau/degad/derivatives/degad_bids_56_63/bids_nongad/sub-*/ses-pre/anat/sub-*_ses-pre_acq-nongad_run-01_T1w.nii.gz'))"
   ]
  },
  {
   "cell_type": "code",
   "execution_count": 4,
   "id": "3b51a82b-c99f-43c0-a9fd-7513e013c46c",
   "metadata": {},
   "outputs": [
    {
     "name": "stdout",
     "output_type": "stream",
     "text": [
      "3\n",
      "63\n",
      "63\n",
      "63\n"
     ]
    }
   ],
   "source": [
    "print(len(MRI_degad))\n",
    "print(len(MRI_synth))\n",
    "print(len(MRI_gad))\n",
    "print(len(MRI_nongad))"
   ]
  },
  {
   "cell_type": "code",
   "execution_count": 5,
   "id": "f93a96ea-f197-40b0-b9dc-04df4ae450c6",
   "metadata": {},
   "outputs": [],
   "source": [
    "MRI_synth=[]\n",
    "MRI_gad=[]\n",
    "MRI_nongad=[]\n",
    "list_sub=[os.path.basename(MRI_degad[i]).split(\"_\")[0] for i in range(len(MRI_degad))]# list of degad subjects sorted based on subject name\n",
    "for sub in list_sub:\n",
    "    MRI_synth.append(f'/project/6050199/akhanf/cfmm-bids/data/Lau/degad/derivatives/synthsr/bids/{sub}/ses-pre/anat/{sub}_ses-pre_acq-gad_run-1_desc-preproc_SynthSR_T1w.nii.gz') # nongad images which underwent a rigid transform and underwent fcm normalization\n",
    "    if sub <= 'sub-P055':\n",
    "        MRI_gad.append(f'/project/6050199/akhanf/cfmm-bids/data/Lau/degad/derivatives/degad_bids_gad/{sub}/ses-pre/anat/{sub}_ses-pre_acq-gad_run-01_T1w.nii.gz')\n",
    "        MRI_nongad.append(f'/project/6050199/akhanf/cfmm-bids/data/Lau/degad/derivatives/degad_bids_nongad/{sub}/ses-pre/anat/{sub}_ses-pre_acq-nongad_run-01_T1w.nii.gz')\n",
    "     \n",
    "    else:    \n",
    "        MRI_gad.append(f'/project/6050199/akhanf/cfmm-bids/data/Lau/degad/derivatives/degad_bids_56_63/bids_gad/{sub}/ses-pre/anat/{sub}_ses-pre_acq-gad_run-01_T1w.nii.gz')\n",
    "        MRI_nongad.append(f'/project/6050199/akhanf/cfmm-bids/data/Lau/degad/derivatives/degad_bids_56_63/bids_nongad/{sub}/ses-pre/anat/{sub}_ses-pre_acq-nongad_run-01_T1w.nii.gz')\n"
   ]
  },
  {
   "cell_type": "code",
   "execution_count": 6,
   "id": "3b3f9a1c-db90-45d4-a28e-d23d4650a6bf",
   "metadata": {},
   "outputs": [],
   "source": [
    "def crop_3D(img,crop_height,crop_width,crop_depth):\n",
    "    \n",
    "    new_top = int(round((img.shape[-3] - crop_height) / 2.0))\n",
    "    new_left = int(round((img.shape[-2] - crop_width) / 2.0))\n",
    "    new_front = int(round((img.shape[-1] - crop_depth) / 2.0))\n",
    "    \n",
    "    new_bottom = new_top + crop_height\n",
    "    new_right= new_left + crop_width\n",
    "    new_back = new_front+crop_depth\n",
    "    return img[..., new_top:new_bottom,new_left:new_right,new_front:new_back]"
   ]
  },
  {
   "cell_type": "code",
   "execution_count": 7,
   "id": "027e1e25-336c-40c0-81f0-533ec39ba5c6",
   "metadata": {},
   "outputs": [],
   "source": [
    "for List in [MRI_gad,MRI_nongad,MRI_degad,MRI_synth]:\n",
    "    List = sorted(List, key=lambda x: os.path.basename(x)) # sort items in list based on basename"
   ]
  },
  {
   "cell_type": "code",
   "execution_count": 8,
   "id": "98eb3fbe-39a8-47af-9f0d-dce7c65bd4cc",
   "metadata": {},
   "outputs": [],
   "source": [
    "# also need to make sure all images im reading in are in the space(gad space?), confirm with lab\n",
    "\n",
    "\n",
    "gad_degad = [{\"image1\": gad_name, \"image2\": degad_name} for gad_name, degad_name in zip(MRI_gad,MRI_degad)] #creates list of dictionaries, with gad and nongad images labelled\n",
    "gad_synth = [{\"image1\": gad_name, \"image2\": synth_name} for gad_name, synth_name in zip(MRI_gad,MRI_synth)] #creates list of dictionaries, with gad and nongad images labelled\n",
    "nogad_degad = [{\"image1\": nogad_name, \"image2\": degad_name} for nogad_name, degad_name in zip(MRI_nongad,MRI_degad)] #creates list of dictionaries, with gad and nongad images labelled\n",
    "nogad_synth = [{\"image1\": nogad_name, \"image2\": synth_name} for nogad_name, synth_name in zip(MRI_nongad,MRI_synth)] #creates list of dictionaries, with gad and nongad images labelled\n"
   ]
  },
  {
   "cell_type": "code",
   "execution_count": 9,
   "id": "8ed4b006-e842-4d9f-af57-ff49d6065648",
   "metadata": {},
   "outputs": [],
   "source": [
    "def load_crop(list_dicts):\n",
    "    \"\"\"\n",
    "    loops thru image pairs, cropped to min dimension in each direction and replaces file name in dictionary with tensor\n",
    "    \"\"\"\n",
    "    for i in range(len(list_dicts)): # loop thru elements in list\n",
    "        new_data = {}# creating new local dict to store tensors\n",
    "        for image in [\"image1\", \"image2\"]:\n",
    "            nifti_image = nib.load(list_dicts[i][image])\n",
    "            image_data = nifti_image.get_fdata()\n",
    "            new_data[image] = image_data # updating keys\n",
    "            #print(new_data[image])  # Print the modified tensor inside the loop\n",
    "        list_dicts[i].update(new_data)\n",
    "        image1_shape, image2_shape = list_dicts[i]['image1'].shape,list_dicts[i]['image2'].shape\n",
    "        min_dims = [min(dim1, dim2) for dim1, dim2 in zip(image1_shape, image2_shape)] # getting min of each dimension\n",
    "        new_data['image1'],new_data['image2'] = crop_3D(new_data['image1'],*min_dims),crop_3D(new_data['image2'],*min_dims)\n",
    "        new_data['image1'],new_data['image2'] = torch.from_numpy(new_data['image1']), torch.from_numpy(new_data['image2'])\n",
    "        list_dicts[i].update(new_data)\n",
    "    return list_dicts"
   ]
  },
  {
   "cell_type": "code",
   "execution_count": 10,
   "id": "7f799d90-c803-4b30-a195-b220330172d6",
   "metadata": {},
   "outputs": [],
   "source": [
    "for list_dicts in [gad_degad,gad_synth,nogad_degad,nogad_synth]:\n",
    "    list_dicts = load_crop(list_dicts) # crops minimum"
   ]
  },
  {
   "cell_type": "code",
   "execution_count": 14,
   "id": "c86e8d23-b53f-494d-a047-47e17f817838",
   "metadata": {},
   "outputs": [],
   "source": [
    "def compute_metrics(image_list,num_subs):\n",
    "    \"\"\"\n",
    "    computing pair-wise metrics on image pairs, returning list of metrics\n",
    "    \"\"\"\n",
    "    l1 = torch.nn.L1Loss(reduction='mean')\n",
    "    mae = 0\n",
    "    rmse = 0\n",
    "    #ssim = 0\n",
    "    for i in range(num_subs):\n",
    "        mae = mae+ l1(image_list[i][\"image1\"],image_list[i][\"image2\"])\n",
    "        rmse = rmse + math.sqrt(mse_loss(input=image_list[i][\"image1\"],target=image_list[i][\"image2\"]))\n",
    "\n",
    "        # Calculate the SSIM index\n",
    "        range1=float(image_list[i][\"image1\"].max()- image_list[i][\"image1\"].min())\n",
    "        range2 = float(image_list[i][\"image2\"].max()- image_list[i][\"image2\"].min())\n",
    "        max_range = max(range1,range2) \n",
    "        #replace this ssim with a 3d implementation or compute each 2d slice and take avg\n",
    "        \"\"\"\n",
    "        ssim_loss = SSIM(data_range=max_range)\n",
    "        \n",
    "        ssim_loss.update((image_list[i][\"image1\"], image_list[i][\"image2\"]))\n",
    "        ssim+= ssim_loss.compute()\n",
    "        \"\"\" \n",
    "        ##TODO: ADD OTHER METRICS\n",
    "    mae /= num_subs\n",
    "    rmse /= num_subs\n",
    "    #ssim/= num_subs\n",
    "    return [mae,rmse]"
   ]
  },
  {
   "cell_type": "code",
   "execution_count": 19,
   "id": "08108c54-b2de-4cc4-9c71-bb3f3fca839a",
   "metadata": {},
   "outputs": [],
   "source": [
    "num_subs = len(gad_degad)\n",
    "image_metrics_list = [0] * 4  # initalize list of list which will hold list of metrics for each dict\n",
    "\n",
    "for i, image_list in enumerate([gad_degad, gad_synth, nogad_degad, nogad_synth]):\n",
    "    metrics = compute_metrics(image_list, num_subs)\n",
    "    image_metrics_list[i] = metrics\n",
    "\n",
    "image_metrics_list = np.array(image_metrics_list)"
   ]
  },
  {
   "cell_type": "code",
   "execution_count": 24,
   "id": "a2012a48-c8d7-48e6-bd1f-1139cbc1aa24",
   "metadata": {},
   "outputs": [],
   "source": [
    "image_list_metrics = np.transpose(image_metrics_list)"
   ]
  },
  {
   "cell_type": "code",
   "execution_count": 25,
   "id": "8ac88a0e-af4e-471b-88c4-d9de578abc18",
   "metadata": {},
   "outputs": [],
   "source": [
    "column_names = ['gad_degad', 'gad_synth', 'nogad_degad', 'nogad_synth']\n",
    "row_index_labels = ['MAE', 'RMSE']\n",
    "df = pd.DataFrame(image_list_metrics , columns=column_names, index=row_index_labels)"
   ]
  },
  {
   "cell_type": "code",
   "execution_count": 28,
   "id": "7448b5ca-0dba-4978-989b-6a96b741127b",
   "metadata": {},
   "outputs": [
    {
     "name": "stdout",
     "output_type": "stream",
     "text": [
      "       gad_degad   gad_synth  nogad_degad  nogad_synth\n",
      "MAE   411.125238  371.786535   264.127308   229.963985\n",
      "RMSE  843.043774  797.289239   522.728891   480.714862\n"
     ]
    }
   ],
   "source": [
    "print(df)"
   ]
  },
  {
   "cell_type": "code",
   "execution_count": 29,
   "id": "69a52ab8-c569-4c43-a3cb-b934d67758fc",
   "metadata": {},
   "outputs": [],
   "source": [
    "output_dir=f'/home/fogunsan/scratch/degad/derivatives/{model}/{date}/metrics'"
   ]
  },
  {
   "cell_type": "code",
   "execution_count": 30,
   "id": "a0543029-a0d3-4502-9aa5-cc761cdd3042",
   "metadata": {},
   "outputs": [],
   "source": [
    "if not os.path.exists(output_dir):\n",
    "    os.makedirs(output_dir)"
   ]
  },
  {
   "cell_type": "code",
   "execution_count": 31,
   "id": "abbe1284-59c7-488e-93d4-87963a4338f3",
   "metadata": {},
   "outputs": [],
   "source": [
    "df.to_csv(f'{output_dir}/metrics.csv', index=False)"
   ]
  }
 ],
 "metadata": {
  "kernelspec": {
   "display_name": "Python 3 (ipykernel)",
   "language": "python",
   "name": "python3"
  },
  "language_info": {
   "codemirror_mode": {
    "name": "ipython",
    "version": 3
   },
   "file_extension": ".py",
   "mimetype": "text/x-python",
   "name": "python",
   "nbconvert_exporter": "python",
   "pygments_lexer": "ipython3",
   "version": "3.10.2"
  }
 },
 "nbformat": 4,
 "nbformat_minor": 5
}
