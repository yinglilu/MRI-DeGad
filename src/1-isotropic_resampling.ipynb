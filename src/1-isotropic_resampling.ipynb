{
 "cells": [
  {
   "cell_type": "code",
   "execution_count": 3,
   "metadata": {},
   "outputs": [],
   "source": [
    "from nilearn import image\n",
    "import matplotlib.pyplot as plt\n",
    "import numpy as np\n",
    "import nibabel as nib\n",
    "from glob import glob\n",
    "import pandas as pd\n",
    "import os"
   ]
  },
  {
   "cell_type": "code",
   "execution_count": 7,
   "metadata": {},
   "outputs": [
    {
     "name": "stderr",
     "output_type": "stream",
     "text": [
      "/home/ROBARTS/fogunsanya/.local/lib/python3.8/site-packages/nilearn/image/resampling.py:453: UserWarning: The provided image has no sform in its header. Please check the provided file. Results may not be as expected.\n",
      "  warnings.warn(\"The provided image has no sform in its header. \"\n",
      "/home/ROBARTS/fogunsanya/.local/lib/python3.8/site-packages/nilearn/image/resampling.py:453: UserWarning: The provided image has no sform in its header. Please check the provided file. Results may not be as expected.\n",
      "  warnings.warn(\"The provided image has no sform in its header. \"\n"
     ]
    }
   ],
   "source": [
    "gad_bids_path='/home/ROBARTS/fogunsanya/graham/scratch/degad/bids/degad_bids_gad'\n",
    "nongad_bids_path='/home/ROBARTS/fogunsanya/graham/scratch/degad/bids/degad_bids_nongad'\n",
    "output_dir = '/home/ROBARTS/fogunsanya/graham/scratch/degad/derivatives/resampled'\n",
    "\n",
    "subject_dirs = sorted(glob(f\"{gad_bids_path}/sub*\")) #list of subject paths for gad images\n",
    "for index, dir in enumerate(subject_dirs):\n",
    "    subject = os.path.basename(dir.split(\"/\")[-1]) #extracting subject name\n",
    "    gad_img_path=f'{gad_bids_path}/{subject}/ses-pre/anat/{subject}_ses-pre_acq-gad_run-01_T1w.nii.gz' ## gad bids directory of data\n",
    "    nongad_img_path=f'{nongad_bids_path}/{subject}/ses-pre/anat/{subject}_ses-pre_acq-nongad_run-01_T1w.nii.gz' ## nongad bids directory of data\n",
    "    \n",
    "    gad_output_dir = f'{output_dir}/gad/{subject}' #output resampled subject directory for gad images\n",
    "    nongad_output_dir = f'{output_dir}/nongad/{subject}' #output resampled subject directory for nongad images\n",
    "    \n",
    "    if not os.path.exists(gad_output_dir):#if gad resampled output path does not exist, create it\n",
    "        !mkdir -p {gad_output_dir}\n",
    "    if not os.path.exists(nongad_output_dir):#if nongad resampled output path does not exist, create it\n",
    "        !mkdir -p {nongad_output_dir}\n",
    "\n",
    "    gad_orig_img=nib.load(gad_img_path)\n",
    "    gad_orig_resample = image.resample_img(gad_orig_img, target_affine=np.eye(3), interpolation='linear') #resampling to 1mm x 1 mm x 1 mm resolution\n",
    "    nib.save(gad_orig_resample, f'{gad_output_dir}/{subject}_acq-gad_resampled_T1w.nii.gz') # saving resampled gad image to output path\n",
    "    \n",
    "    nongad_orig_img=nib.load(nongad_img_path)\n",
    "    nongad_orig_resample = image.resample_img(nongad_orig_img, target_affine=np.eye(3), interpolation='linear')\n",
    "    nib.save(nongad_orig_resample, f'{nongad_output_dir}/{subject}_acq-nongad_resampled_T1w.nii.gz') # saving resampled nongad image to output path\n",
    "    "
   ]
  }
 ],
 "metadata": {
  "interpreter": {
   "hash": "31f2aee4e71d21fbe5cf8b01ff0e069b9275f58929596ceb00d14d90e3e16cd6"
  },
  "kernelspec": {
   "display_name": "Python 3.8.10 64-bit",
   "language": "python",
   "name": "python3"
  },
  "language_info": {
   "codemirror_mode": {
    "name": "ipython",
    "version": 3
   },
   "file_extension": ".py",
   "mimetype": "text/x-python",
   "name": "python",
   "nbconvert_exporter": "python",
   "pygments_lexer": "ipython3",
   "version": "3.8.10"
  },
  "orig_nbformat": 4
 },
 "nbformat": 4,
 "nbformat_minor": 2
}
