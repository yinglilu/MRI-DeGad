{
 "cells": [
  {
   "cell_type": "code",
   "execution_count": 10,
   "metadata": {},
   "outputs": [],
   "source": [
    "\n",
    "from nilearn import image\n",
    "import matplotlib.pyplot as plt\n",
    "import numpy as np\n",
    "import nibabel as nib\n",
    "from glob import glob\n",
    "import pandas as pd\n",
    "import os"
   ]
  },
  {
   "cell_type": "code",
   "execution_count": 16,
   "metadata": {},
   "outputs": [
    {
     "ename": "FileNotFoundError",
     "evalue": "No such file or no access: '/home/ROBARTS/fogunsanya/graham/scratch/degad/bids/degad_bids_nongad/sub-P001/ses-pre/anat/sub-P001/ses-pre/anat/sub-P001_ses-pre_acq-nongad_run-01_T1w.nii.gz'",
     "output_type": "error",
     "traceback": [
      "\u001b[0;31m---------------------------------------------------------------------------\u001b[0m",
      "\u001b[0;31mFileNotFoundError\u001b[0m                         Traceback (most recent call last)",
      "File \u001b[0;32m~/.local/lib/python3.8/site-packages/nibabel/loadsave.py:90\u001b[0m, in \u001b[0;36mload\u001b[0;34m(filename, **kwargs)\u001b[0m\n\u001b[1;32m     <a href='file:///home/ROBARTS/fogunsanya/.local/lib/python3.8/site-packages/nibabel/loadsave.py?line=88'>89</a>\u001b[0m \u001b[39mtry\u001b[39;00m:\n\u001b[0;32m---> <a href='file:///home/ROBARTS/fogunsanya/.local/lib/python3.8/site-packages/nibabel/loadsave.py?line=89'>90</a>\u001b[0m     stat_result \u001b[39m=\u001b[39m os\u001b[39m.\u001b[39;49mstat(filename)\n\u001b[1;32m     <a href='file:///home/ROBARTS/fogunsanya/.local/lib/python3.8/site-packages/nibabel/loadsave.py?line=90'>91</a>\u001b[0m \u001b[39mexcept\u001b[39;00m \u001b[39mOSError\u001b[39;00m:\n",
      "\u001b[0;31mFileNotFoundError\u001b[0m: [Errno 2] No such file or directory: '/home/ROBARTS/fogunsanya/graham/scratch/degad/bids/degad_bids_nongad/sub-P001/ses-pre/anat/sub-P001/ses-pre/anat/sub-P001_ses-pre_acq-nongad_run-01_T1w.nii.gz'",
      "\nDuring handling of the above exception, another exception occurred:\n",
      "\u001b[0;31mFileNotFoundError\u001b[0m                         Traceback (most recent call last)",
      "Cell \u001b[0;32mIn[16], line 22\u001b[0m\n\u001b[1;32m     19\u001b[0m gad_orig_resample \u001b[38;5;241m=\u001b[39m image\u001b[38;5;241m.\u001b[39mresample_img(gad_orig_img, target_affine\u001b[38;5;241m=\u001b[39mnp\u001b[38;5;241m.\u001b[39meye(\u001b[38;5;241m3\u001b[39m), interpolation\u001b[38;5;241m=\u001b[39m\u001b[38;5;124m'\u001b[39m\u001b[38;5;124mnearest\u001b[39m\u001b[38;5;124m'\u001b[39m) \u001b[38;5;66;03m#resampling to 1mm x 1 mm x 1 mm resolution\u001b[39;00m\n\u001b[1;32m     20\u001b[0m nib\u001b[38;5;241m.\u001b[39msave(gad_orig_resample, \u001b[38;5;124mf\u001b[39m\u001b[38;5;124m'\u001b[39m\u001b[38;5;132;01m{\u001b[39;00mgad_output_dir\u001b[38;5;132;01m}\u001b[39;00m\u001b[38;5;124m/\u001b[39m\u001b[38;5;132;01m{\u001b[39;00msubject\u001b[38;5;132;01m}\u001b[39;00m\u001b[38;5;124m_acq-gad_resampled_T1w.nii.gz\u001b[39m\u001b[38;5;124m'\u001b[39m)\n\u001b[0;32m---> 22\u001b[0m nongad_orig_img\u001b[38;5;241m=\u001b[39m\u001b[43mnib\u001b[49m\u001b[38;5;241;43m.\u001b[39;49m\u001b[43mload\u001b[49m\u001b[43m(\u001b[49m\u001b[43mnongad_img_path\u001b[49m\u001b[43m)\u001b[49m\n\u001b[1;32m     23\u001b[0m nongad_orig_resample \u001b[38;5;241m=\u001b[39m image\u001b[38;5;241m.\u001b[39mresample_img(nongad_orig_img, target_affine\u001b[38;5;241m=\u001b[39mnp\u001b[38;5;241m.\u001b[39meye(\u001b[38;5;241m3\u001b[39m), interpolation\u001b[38;5;241m=\u001b[39m\u001b[38;5;124m'\u001b[39m\u001b[38;5;124mnearest\u001b[39m\u001b[38;5;124m'\u001b[39m)\n\u001b[1;32m     24\u001b[0m nib\u001b[38;5;241m.\u001b[39msave(nongad_orig_resample, \u001b[38;5;124mf\u001b[39m\u001b[38;5;124m'\u001b[39m\u001b[38;5;132;01m{\u001b[39;00mnongad_output_dir\u001b[38;5;132;01m}\u001b[39;00m\u001b[38;5;124m/\u001b[39m\u001b[38;5;132;01m{\u001b[39;00msubject\u001b[38;5;132;01m}\u001b[39;00m\u001b[38;5;124m_acq-nongad_resampled_T1w.nii.gz\u001b[39m\u001b[38;5;124m'\u001b[39m)\n",
      "File \u001b[0;32m~/.local/lib/python3.8/site-packages/nibabel/loadsave.py:92\u001b[0m, in \u001b[0;36mload\u001b[0;34m(filename, **kwargs)\u001b[0m\n\u001b[1;32m     <a href='file:///home/ROBARTS/fogunsanya/.local/lib/python3.8/site-packages/nibabel/loadsave.py?line=89'>90</a>\u001b[0m     stat_result \u001b[39m=\u001b[39m os\u001b[39m.\u001b[39mstat(filename)\n\u001b[1;32m     <a href='file:///home/ROBARTS/fogunsanya/.local/lib/python3.8/site-packages/nibabel/loadsave.py?line=90'>91</a>\u001b[0m \u001b[39mexcept\u001b[39;00m \u001b[39mOSError\u001b[39;00m:\n\u001b[0;32m---> <a href='file:///home/ROBARTS/fogunsanya/.local/lib/python3.8/site-packages/nibabel/loadsave.py?line=91'>92</a>\u001b[0m     \u001b[39mraise\u001b[39;00m \u001b[39mFileNotFoundError\u001b[39;00m(\u001b[39mf\u001b[39m\u001b[39m\"\u001b[39m\u001b[39mNo such file or no access: \u001b[39m\u001b[39m'\u001b[39m\u001b[39m{\u001b[39;00mfilename\u001b[39m}\u001b[39;00m\u001b[39m'\u001b[39m\u001b[39m\"\u001b[39m)\n\u001b[1;32m     <a href='file:///home/ROBARTS/fogunsanya/.local/lib/python3.8/site-packages/nibabel/loadsave.py?line=92'>93</a>\u001b[0m \u001b[39mif\u001b[39;00m stat_result\u001b[39m.\u001b[39mst_size \u001b[39m<\u001b[39m\u001b[39m=\u001b[39m \u001b[39m0\u001b[39m:\n\u001b[1;32m     <a href='file:///home/ROBARTS/fogunsanya/.local/lib/python3.8/site-packages/nibabel/loadsave.py?line=93'>94</a>\u001b[0m     \u001b[39mraise\u001b[39;00m ImageFileError(\u001b[39mf\u001b[39m\u001b[39m\"\u001b[39m\u001b[39mEmpty file: \u001b[39m\u001b[39m'\u001b[39m\u001b[39m{\u001b[39;00mfilename\u001b[39m}\u001b[39;00m\u001b[39m'\u001b[39m\u001b[39m\"\u001b[39m)\n",
      "\u001b[0;31mFileNotFoundError\u001b[0m: No such file or no access: '/home/ROBARTS/fogunsanya/graham/scratch/degad/bids/degad_bids_nongad/sub-P001/ses-pre/anat/sub-P001/ses-pre/anat/sub-P001_ses-pre_acq-nongad_run-01_T1w.nii.gz'"
     ]
    }
   ],
   "source": [
    "gad_bids_path='/home/ROBARTS/fogunsanya/graham/scratch/degad/bids/degad_bids_gad'\n",
    "nongad_bids_path='/home/ROBARTS/fogunsanya/graham/scratch/degad/bids/degad_bids_nongad'\n",
    "output_dir = '/home/ROBARTS/fogunsanya/graham/scratch/degad/derivatives/resampled'\n",
    "\n",
    "subject_dirs = sorted(glob(f\"{gad_bids_path}/sub*\"))\n",
    "for index, dir in enumerate(subject_dirs):\n",
    "    subject = os.path.basename(dir.split(\"/\")[-1])\n",
    "    gad_img_path=f'{gad_bids_path}/{subject}/ses-pre/anat/{subject}_ses-pre_acq-gad_run-01_T1w.nii.gz' ## gad bids directory of data\n",
    "    nongad_img_path=f'{nongad_bids_path}/{subject}/ses-pre/anat/{subject}_ses-pre_acq-nongad_run-01_T1w.nii.gz' ## nongad bids directory of data\n",
    "    \n",
    "    gad_output_dir = f'{output_dir}/gad/{subject}'\n",
    "    nongad_output_dir = f'{output_dir}/nongad/{subject}'\n",
    "    \n",
    "    if not os.path.exists(gad_output_dir):#if path does not exist, create it\n",
    "        !mkdir -p {gad_output_dir}\n",
    "    if not os.path.exists(nongad_output_dir):#if path does not exist, create it\n",
    "        !mkdir -p {nongad_output_dir}\n",
    "\n",
    "    gad_orig_img=nib.load(gad_img_path)\n",
    "    gad_orig_resample = image.resample_img(gad_orig_img, target_affine=np.eye(3), interpolation='nearest') #resampling to 1mm x 1 mm x 1 mm resolution\n",
    "    nib.save(gad_orig_resample, f'{gad_output_dir}/{subject}_acq-gad_resampled_T1w.nii.gz')\n",
    "    \n",
    "    nongad_orig_img=nib.load(nongad_img_path)\n",
    "    nongad_orig_resample = image.resample_img(nongad_orig_img, target_affine=np.eye(3), interpolation='nearest')\n",
    "    nib.save(nongad_orig_resample, f'{nongad_output_dir}/{subject}_acq-nongad_resampled_T1w.nii.gz')\n",
    "    "
   ]
  }
 ],
 "metadata": {
  "interpreter": {
   "hash": "31f2aee4e71d21fbe5cf8b01ff0e069b9275f58929596ceb00d14d90e3e16cd6"
  },
  "kernelspec": {
   "display_name": "Python 3.8.10 64-bit",
   "language": "python",
   "name": "python3"
  },
  "language_info": {
   "codemirror_mode": {
    "name": "ipython",
    "version": 3
   },
   "file_extension": ".py",
   "mimetype": "text/x-python",
   "name": "python",
   "nbconvert_exporter": "python",
   "pygments_lexer": "ipython3",
   "version": "3.8.10"
  },
  "orig_nbformat": 4
 },
 "nbformat": 4,
 "nbformat_minor": 2
}
